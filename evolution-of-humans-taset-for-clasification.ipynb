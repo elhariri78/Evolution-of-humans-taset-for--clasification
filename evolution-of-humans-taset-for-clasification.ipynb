{
 "cells": [
  {
   "cell_type": "code",
   "execution_count": 1,
   "id": "4bc81c52",
   "metadata": {
    "_cell_guid": "b1076dfc-b9ad-4769-8c92-a6c4dae69d19",
    "_uuid": "8f2839f25d086af736a60e9eeb907d3b93b6e0e5",
    "execution": {
     "iopub.execute_input": "2024-09-09T13:30:11.259933Z",
     "iopub.status.busy": "2024-09-09T13:30:11.259377Z",
     "iopub.status.idle": "2024-09-09T13:30:11.903807Z",
     "shell.execute_reply": "2024-09-09T13:30:11.901832Z"
    },
    "papermill": {
     "duration": 0.665987,
     "end_time": "2024-09-09T13:30:11.907639",
     "exception": false,
     "start_time": "2024-09-09T13:30:11.241652",
     "status": "completed"
    },
    "tags": []
   },
   "outputs": [
    {
     "name": "stdout",
     "output_type": "stream",
     "text": [
      "/kaggle/input/evolution-of-humans-datasets-for-clasification/Evolution_DataSets.csv\n"
     ]
    }
   ],
   "source": [
    "# This Python 3 environment comes with many helpful analytics libraries installed\n",
    "# It is defined by the kaggle/python Docker image: https://github.com/kaggle/docker-python\n",
    "# For example, here's several helpful packages to load\n",
    "\n",
    "import numpy as np # linear algebra\n",
    "import pandas as pd # data processing, CSV file I/O (e.g. pd.read_csv)\n",
    "\n",
    "# Input data files are available in the read-only \"../input/\" directory\n",
    "# For example, running this (by clicking run or pressing Shift+Enter) will list all files under the input directory\n",
    "\n",
    "import os\n",
    "for dirname, _, filenames in os.walk('/kaggle/input'):\n",
    "    for filename in filenames:\n",
    "        print(os.path.join(dirname, filename))\n",
    "\n",
    "# You can write up to 20GB to the current directory (/kaggle/working/) that gets preserved as output when you create a version using \"Save & Run All\" \n",
    "# You can also write temporary files to /kaggle/temp/, but they won't be saved outside of the current session"
   ]
  },
  {
   "cell_type": "markdown",
   "id": "1d4c29e4",
   "metadata": {
    "papermill": {
     "duration": 0.012031,
     "end_time": "2024-09-09T13:30:11.931940",
     "exception": false,
     "start_time": "2024-09-09T13:30:11.919909",
     "status": "completed"
    },
    "tags": []
   },
   "source": [
    "## Import librarires"
   ]
  },
  {
   "cell_type": "code",
   "execution_count": 2,
   "id": "81d80343",
   "metadata": {
    "execution": {
     "iopub.execute_input": "2024-09-09T13:30:11.959687Z",
     "iopub.status.busy": "2024-09-09T13:30:11.958936Z",
     "iopub.status.idle": "2024-09-09T13:30:14.152992Z",
     "shell.execute_reply": "2024-09-09T13:30:14.151563Z"
    },
    "papermill": {
     "duration": 2.211421,
     "end_time": "2024-09-09T13:30:14.156243",
     "exception": false,
     "start_time": "2024-09-09T13:30:11.944822",
     "status": "completed"
    },
    "tags": []
   },
   "outputs": [],
   "source": [
    "import pandas as pd\n",
    "from sklearn import tree\n",
    "import matplotlib.pyplot as plt\n",
    "from sklearn.tree import DecisionTreeClassifier\n",
    "from sklearn.preprocessing import LabelEncoder\n",
    "from sklearn.neighbors import KNeighborsClassifier\n",
    "from sklearn.model_selection import train_test_split\n",
    "from sklearn.compose import ColumnTransformer\n",
    "from sklearn.preprocessing import OneHotEncoder"
   ]
  },
  {
   "cell_type": "markdown",
   "id": "18f6f620",
   "metadata": {
    "papermill": {
     "duration": 0.009288,
     "end_time": "2024-09-09T13:30:14.175706",
     "exception": false,
     "start_time": "2024-09-09T13:30:14.166418",
     "status": "completed"
    },
    "tags": []
   },
   "source": [
    "## Export Data from csv"
   ]
  },
  {
   "cell_type": "code",
   "execution_count": 3,
   "id": "12110d38",
   "metadata": {
    "execution": {
     "iopub.execute_input": "2024-09-09T13:30:14.198524Z",
     "iopub.status.busy": "2024-09-09T13:30:14.197487Z",
     "iopub.status.idle": "2024-09-09T13:30:14.412403Z",
     "shell.execute_reply": "2024-09-09T13:30:14.410709Z"
    },
    "papermill": {
     "duration": 0.23037,
     "end_time": "2024-09-09T13:30:14.415756",
     "exception": false,
     "start_time": "2024-09-09T13:30:14.185386",
     "status": "completed"
    },
    "tags": []
   },
   "outputs": [
    {
     "data": {
      "text/html": [
       "<div>\n",
       "<style scoped>\n",
       "    .dataframe tbody tr th:only-of-type {\n",
       "        vertical-align: middle;\n",
       "    }\n",
       "\n",
       "    .dataframe tbody tr th {\n",
       "        vertical-align: top;\n",
       "    }\n",
       "\n",
       "    .dataframe thead th {\n",
       "        text-align: right;\n",
       "    }\n",
       "</style>\n",
       "<table border=\"1\" class=\"dataframe\">\n",
       "  <thead>\n",
       "    <tr style=\"text-align: right;\">\n",
       "      <th></th>\n",
       "      <th>Genus_&amp;_Specie</th>\n",
       "      <th>Time</th>\n",
       "      <th>Location</th>\n",
       "      <th>Zone</th>\n",
       "      <th>Current_Country</th>\n",
       "      <th>Habitat</th>\n",
       "      <th>Cranial_Capacity</th>\n",
       "      <th>Height</th>\n",
       "      <th>Incisor_Size</th>\n",
       "      <th>Jaw_Shape</th>\n",
       "      <th>...</th>\n",
       "      <th>biped</th>\n",
       "      <th>Arms</th>\n",
       "      <th>Foots</th>\n",
       "      <th>Diet</th>\n",
       "      <th>Sexual_Dimorphism</th>\n",
       "      <th>Hip</th>\n",
       "      <th>Vertical_Front</th>\n",
       "      <th>Anatomy</th>\n",
       "      <th>Migrated</th>\n",
       "      <th>Skeleton</th>\n",
       "    </tr>\n",
       "  </thead>\n",
       "  <tbody>\n",
       "    <tr>\n",
       "      <th>0</th>\n",
       "      <td>hominino Orrorin tugenencin</td>\n",
       "      <td>6.041124</td>\n",
       "      <td>Africa</td>\n",
       "      <td>oriental</td>\n",
       "      <td>Kenya</td>\n",
       "      <td>forest</td>\n",
       "      <td>144.51410</td>\n",
       "      <td>110.24323</td>\n",
       "      <td>small</td>\n",
       "      <td>conical</td>\n",
       "      <td>...</td>\n",
       "      <td>low probability</td>\n",
       "      <td>climbing</td>\n",
       "      <td>climbing</td>\n",
       "      <td>dry fruits</td>\n",
       "      <td>high</td>\n",
       "      <td>wide</td>\n",
       "      <td>no</td>\n",
       "      <td>old</td>\n",
       "      <td>no</td>\n",
       "      <td>light</td>\n",
       "    </tr>\n",
       "    <tr>\n",
       "      <th>1</th>\n",
       "      <td>hominino Ardipithecus ramidus / kabadda</td>\n",
       "      <td>4.383910</td>\n",
       "      <td>Africa</td>\n",
       "      <td>oriental</td>\n",
       "      <td>Ethiopia</td>\n",
       "      <td>mixed</td>\n",
       "      <td>293.96021</td>\n",
       "      <td>107.69018</td>\n",
       "      <td>small</td>\n",
       "      <td>conical</td>\n",
       "      <td>...</td>\n",
       "      <td>high probability</td>\n",
       "      <td>climbing</td>\n",
       "      <td>climbing</td>\n",
       "      <td>soft fruits</td>\n",
       "      <td>medium-high</td>\n",
       "      <td>wide</td>\n",
       "      <td>no</td>\n",
       "      <td>old</td>\n",
       "      <td>no</td>\n",
       "      <td>light</td>\n",
       "    </tr>\n",
       "    <tr>\n",
       "      <th>2</th>\n",
       "      <td>Australopithecus Afarensis</td>\n",
       "      <td>3.749413</td>\n",
       "      <td>Africa</td>\n",
       "      <td>oriental</td>\n",
       "      <td>Kenya</td>\n",
       "      <td>mixed</td>\n",
       "      <td>264.79849</td>\n",
       "      <td>123.76644</td>\n",
       "      <td>big</td>\n",
       "      <td>U shape</td>\n",
       "      <td>...</td>\n",
       "      <td>yes</td>\n",
       "      <td>climbing</td>\n",
       "      <td>walk</td>\n",
       "      <td>dry fruits</td>\n",
       "      <td>high</td>\n",
       "      <td>slim</td>\n",
       "      <td>no</td>\n",
       "      <td>old</td>\n",
       "      <td>no</td>\n",
       "      <td>refined</td>\n",
       "    </tr>\n",
       "    <tr>\n",
       "      <th>3</th>\n",
       "      <td>Australopithecus Anamensis</td>\n",
       "      <td>4.595606</td>\n",
       "      <td>Africa</td>\n",
       "      <td>oriental</td>\n",
       "      <td>Kenya</td>\n",
       "      <td>forest-gallery</td>\n",
       "      <td>403.28047</td>\n",
       "      <td>111.40831</td>\n",
       "      <td>big</td>\n",
       "      <td>U shape</td>\n",
       "      <td>...</td>\n",
       "      <td>yes</td>\n",
       "      <td>climbing</td>\n",
       "      <td>climbing</td>\n",
       "      <td>dry fruits</td>\n",
       "      <td>high</td>\n",
       "      <td>wide</td>\n",
       "      <td>no</td>\n",
       "      <td>mixed</td>\n",
       "      <td>no</td>\n",
       "      <td>light</td>\n",
       "    </tr>\n",
       "    <tr>\n",
       "      <th>4</th>\n",
       "      <td>Australopithecus Africanus</td>\n",
       "      <td>3.614060</td>\n",
       "      <td>Africa</td>\n",
       "      <td>south</td>\n",
       "      <td>South Africa</td>\n",
       "      <td>forest-gallery</td>\n",
       "      <td>679.15233</td>\n",
       "      <td>111.59004</td>\n",
       "      <td>small</td>\n",
       "      <td>conical</td>\n",
       "      <td>...</td>\n",
       "      <td>yes</td>\n",
       "      <td>climbing</td>\n",
       "      <td>climbing</td>\n",
       "      <td>dry fruits</td>\n",
       "      <td>high</td>\n",
       "      <td>wide</td>\n",
       "      <td>yes</td>\n",
       "      <td>old</td>\n",
       "      <td>no</td>\n",
       "      <td>light</td>\n",
       "    </tr>\n",
       "    <tr>\n",
       "      <th>5</th>\n",
       "      <td>Homo Rodhesiensis</td>\n",
       "      <td>0.679447</td>\n",
       "      <td>Africa</td>\n",
       "      <td>oriental</td>\n",
       "      <td>Ethiopia</td>\n",
       "      <td>savannah</td>\n",
       "      <td>1155.28124</td>\n",
       "      <td>144.77589</td>\n",
       "      <td>big</td>\n",
       "      <td>U shape</td>\n",
       "      <td>...</td>\n",
       "      <td>modern</td>\n",
       "      <td>manipulate with precision</td>\n",
       "      <td>walk</td>\n",
       "      <td>omnivore</td>\n",
       "      <td>medium-high</td>\n",
       "      <td>slim</td>\n",
       "      <td>yes</td>\n",
       "      <td>mixed</td>\n",
       "      <td>no</td>\n",
       "      <td>robust</td>\n",
       "    </tr>\n",
       "    <tr>\n",
       "      <th>6</th>\n",
       "      <td>Australopithecus Afarensis</td>\n",
       "      <td>3.788978</td>\n",
       "      <td>Africa</td>\n",
       "      <td>oriental</td>\n",
       "      <td>Kenya</td>\n",
       "      <td>mixed</td>\n",
       "      <td>305.31366</td>\n",
       "      <td>138.47796</td>\n",
       "      <td>big</td>\n",
       "      <td>U shape</td>\n",
       "      <td>...</td>\n",
       "      <td>yes</td>\n",
       "      <td>climbing</td>\n",
       "      <td>walk</td>\n",
       "      <td>dry fruits</td>\n",
       "      <td>high</td>\n",
       "      <td>slim</td>\n",
       "      <td>no</td>\n",
       "      <td>old</td>\n",
       "      <td>no</td>\n",
       "      <td>refined</td>\n",
       "    </tr>\n",
       "    <tr>\n",
       "      <th>7</th>\n",
       "      <td>hominino Sahelanthropus tchadensis</td>\n",
       "      <td>7.551967</td>\n",
       "      <td>Africa</td>\n",
       "      <td>central</td>\n",
       "      <td>Republic of Chad</td>\n",
       "      <td>mixed</td>\n",
       "      <td>258.04823</td>\n",
       "      <td>91.23118</td>\n",
       "      <td>small</td>\n",
       "      <td>conical</td>\n",
       "      <td>...</td>\n",
       "      <td>low probability</td>\n",
       "      <td>climbing</td>\n",
       "      <td>climbing</td>\n",
       "      <td>dry fruits</td>\n",
       "      <td>high</td>\n",
       "      <td>wide</td>\n",
       "      <td>no</td>\n",
       "      <td>old</td>\n",
       "      <td>no</td>\n",
       "      <td>light</td>\n",
       "    </tr>\n",
       "    <tr>\n",
       "      <th>8</th>\n",
       "      <td>Homo Neanderthalensis\\n</td>\n",
       "      <td>0.547326</td>\n",
       "      <td>Europa</td>\n",
       "      <td>central</td>\n",
       "      <td>Germany</td>\n",
       "      <td>cold forest</td>\n",
       "      <td>1156.08025</td>\n",
       "      <td>158.10385</td>\n",
       "      <td>big</td>\n",
       "      <td>modern</td>\n",
       "      <td>...</td>\n",
       "      <td>modern</td>\n",
       "      <td>manipulate with precision</td>\n",
       "      <td>walk</td>\n",
       "      <td>carnivorous</td>\n",
       "      <td>medium-high</td>\n",
       "      <td>very modern</td>\n",
       "      <td>modern</td>\n",
       "      <td>very modern</td>\n",
       "      <td>no</td>\n",
       "      <td>robust</td>\n",
       "    </tr>\n",
       "    <tr>\n",
       "      <th>9</th>\n",
       "      <td>Australopithecus Anamensis</td>\n",
       "      <td>4.180914</td>\n",
       "      <td>Africa</td>\n",
       "      <td>oriental</td>\n",
       "      <td>Kenya</td>\n",
       "      <td>forest-gallery</td>\n",
       "      <td>460.06068</td>\n",
       "      <td>117.35674</td>\n",
       "      <td>big</td>\n",
       "      <td>U shape</td>\n",
       "      <td>...</td>\n",
       "      <td>yes</td>\n",
       "      <td>climbing</td>\n",
       "      <td>climbing</td>\n",
       "      <td>dry fruits</td>\n",
       "      <td>high</td>\n",
       "      <td>wide</td>\n",
       "      <td>no</td>\n",
       "      <td>mixed</td>\n",
       "      <td>no</td>\n",
       "      <td>light</td>\n",
       "    </tr>\n",
       "  </tbody>\n",
       "</table>\n",
       "<p>10 rows × 28 columns</p>\n",
       "</div>"
      ],
      "text/plain": [
       "                            Genus_&_Specie      Time Location      Zone  \\\n",
       "0              hominino Orrorin tugenencin  6.041124   Africa  oriental   \n",
       "1  hominino Ardipithecus ramidus / kabadda  4.383910   Africa  oriental   \n",
       "2               Australopithecus Afarensis  3.749413   Africa  oriental   \n",
       "3               Australopithecus Anamensis  4.595606   Africa  oriental   \n",
       "4               Australopithecus Africanus  3.614060   Africa     south   \n",
       "5                        Homo Rodhesiensis  0.679447   Africa  oriental   \n",
       "6               Australopithecus Afarensis  3.788978   Africa  oriental   \n",
       "7       hominino Sahelanthropus tchadensis  7.551967   Africa   central   \n",
       "8                  Homo Neanderthalensis\\n  0.547326   Europa   central   \n",
       "9               Australopithecus Anamensis  4.180914   Africa  oriental   \n",
       "\n",
       "    Current_Country         Habitat  Cranial_Capacity     Height Incisor_Size  \\\n",
       "0             Kenya          forest         144.51410  110.24323        small   \n",
       "1          Ethiopia           mixed         293.96021  107.69018        small   \n",
       "2             Kenya           mixed         264.79849  123.76644          big   \n",
       "3             Kenya  forest-gallery         403.28047  111.40831          big   \n",
       "4      South Africa  forest-gallery         679.15233  111.59004        small   \n",
       "5          Ethiopia        savannah        1155.28124  144.77589          big   \n",
       "6             Kenya           mixed         305.31366  138.47796          big   \n",
       "7  Republic of Chad           mixed         258.04823   91.23118        small   \n",
       "8           Germany     cold forest        1156.08025  158.10385          big   \n",
       "9             Kenya  forest-gallery         460.06068  117.35674          big   \n",
       "\n",
       "  Jaw_Shape  ...             biped                       Arms     Foots  \\\n",
       "0   conical  ...   low probability                   climbing  climbing   \n",
       "1   conical  ...  high probability                   climbing  climbing   \n",
       "2   U shape  ...               yes                   climbing      walk   \n",
       "3   U shape  ...               yes                   climbing  climbing   \n",
       "4   conical  ...               yes                   climbing  climbing   \n",
       "5   U shape  ...            modern  manipulate with precision      walk   \n",
       "6   U shape  ...               yes                   climbing      walk   \n",
       "7   conical  ...   low probability                   climbing  climbing   \n",
       "8    modern  ...            modern  manipulate with precision      walk   \n",
       "9   U shape  ...               yes                   climbing  climbing   \n",
       "\n",
       "          Diet Sexual_Dimorphism          Hip Vertical_Front      Anatomy  \\\n",
       "0   dry fruits              high         wide             no          old   \n",
       "1  soft fruits       medium-high         wide             no          old   \n",
       "2   dry fruits              high         slim             no          old   \n",
       "3   dry fruits              high         wide             no        mixed   \n",
       "4   dry fruits              high         wide            yes          old   \n",
       "5     omnivore       medium-high         slim            yes        mixed   \n",
       "6   dry fruits              high         slim             no          old   \n",
       "7   dry fruits              high         wide             no          old   \n",
       "8  carnivorous       medium-high  very modern         modern  very modern   \n",
       "9   dry fruits              high         wide             no        mixed   \n",
       "\n",
       "  Migrated Skeleton  \n",
       "0       no    light  \n",
       "1       no    light  \n",
       "2       no  refined  \n",
       "3       no    light  \n",
       "4       no    light  \n",
       "5       no   robust  \n",
       "6       no  refined  \n",
       "7       no    light  \n",
       "8       no   robust  \n",
       "9       no    light  \n",
       "\n",
       "[10 rows x 28 columns]"
      ]
     },
     "execution_count": 3,
     "metadata": {},
     "output_type": "execute_result"
    }
   ],
   "source": [
    "df = pd.read_csv('/kaggle/input/evolution-of-humans-datasets-for-clasification/Evolution_DataSets.csv')\n",
    "df.head(10)"
   ]
  },
  {
   "cell_type": "markdown",
   "id": "6d3a07e2",
   "metadata": {
    "papermill": {
     "duration": 0.0105,
     "end_time": "2024-09-09T13:30:14.437462",
     "exception": false,
     "start_time": "2024-09-09T13:30:14.426962",
     "status": "completed"
    },
    "tags": []
   },
   "source": [
    "## encoding"
   ]
  },
  {
   "cell_type": "code",
   "execution_count": 4,
   "id": "198f7d10",
   "metadata": {
    "execution": {
     "iopub.execute_input": "2024-09-09T13:30:14.461094Z",
     "iopub.status.busy": "2024-09-09T13:30:14.460652Z",
     "iopub.status.idle": "2024-09-09T13:30:14.526510Z",
     "shell.execute_reply": "2024-09-09T13:30:14.525065Z"
    },
    "papermill": {
     "duration": 0.081357,
     "end_time": "2024-09-09T13:30:14.529575",
     "exception": false,
     "start_time": "2024-09-09T13:30:14.448218",
     "status": "completed"
    },
    "tags": []
   },
   "outputs": [
    {
     "data": {
      "text/html": [
       "<div>\n",
       "<style scoped>\n",
       "    .dataframe tbody tr th:only-of-type {\n",
       "        vertical-align: middle;\n",
       "    }\n",
       "\n",
       "    .dataframe tbody tr th {\n",
       "        vertical-align: top;\n",
       "    }\n",
       "\n",
       "    .dataframe thead th {\n",
       "        text-align: right;\n",
       "    }\n",
       "</style>\n",
       "<table border=\"1\" class=\"dataframe\">\n",
       "  <thead>\n",
       "    <tr style=\"text-align: right;\">\n",
       "      <th></th>\n",
       "      <th>Genus_&amp;_Specie</th>\n",
       "      <th>Time</th>\n",
       "      <th>Location</th>\n",
       "      <th>Zone</th>\n",
       "      <th>Current_Country</th>\n",
       "      <th>Habitat</th>\n",
       "      <th>Cranial_Capacity</th>\n",
       "      <th>Height</th>\n",
       "      <th>Incisor_Size</th>\n",
       "      <th>Jaw_Shape</th>\n",
       "      <th>...</th>\n",
       "      <th>biped</th>\n",
       "      <th>Arms</th>\n",
       "      <th>Foots</th>\n",
       "      <th>Diet</th>\n",
       "      <th>Sexual_Dimorphism</th>\n",
       "      <th>Hip</th>\n",
       "      <th>Vertical_Front</th>\n",
       "      <th>Anatomy</th>\n",
       "      <th>Migrated</th>\n",
       "      <th>Skeleton</th>\n",
       "    </tr>\n",
       "  </thead>\n",
       "  <tbody>\n",
       "    <tr>\n",
       "      <th>0</th>\n",
       "      <td>22</td>\n",
       "      <td>6.041124</td>\n",
       "      <td>0</td>\n",
       "      <td>oriental</td>\n",
       "      <td>Kenya</td>\n",
       "      <td>forest</td>\n",
       "      <td>144.51410</td>\n",
       "      <td>110.24323</td>\n",
       "      <td>small</td>\n",
       "      <td>conical</td>\n",
       "      <td>...</td>\n",
       "      <td>low probability</td>\n",
       "      <td>climbing</td>\n",
       "      <td>climbing</td>\n",
       "      <td>1</td>\n",
       "      <td>high</td>\n",
       "      <td>wide</td>\n",
       "      <td>no</td>\n",
       "      <td>old</td>\n",
       "      <td>no</td>\n",
       "      <td>light</td>\n",
       "    </tr>\n",
       "    <tr>\n",
       "      <th>1</th>\n",
       "      <td>21</td>\n",
       "      <td>4.383910</td>\n",
       "      <td>0</td>\n",
       "      <td>oriental</td>\n",
       "      <td>Ethiopia</td>\n",
       "      <td>mixed</td>\n",
       "      <td>293.96021</td>\n",
       "      <td>107.69018</td>\n",
       "      <td>small</td>\n",
       "      <td>conical</td>\n",
       "      <td>...</td>\n",
       "      <td>high probability</td>\n",
       "      <td>climbing</td>\n",
       "      <td>climbing</td>\n",
       "      <td>4</td>\n",
       "      <td>medium-high</td>\n",
       "      <td>wide</td>\n",
       "      <td>no</td>\n",
       "      <td>old</td>\n",
       "      <td>no</td>\n",
       "      <td>light</td>\n",
       "    </tr>\n",
       "    <tr>\n",
       "      <th>2</th>\n",
       "      <td>0</td>\n",
       "      <td>3.749413</td>\n",
       "      <td>0</td>\n",
       "      <td>oriental</td>\n",
       "      <td>Kenya</td>\n",
       "      <td>mixed</td>\n",
       "      <td>264.79849</td>\n",
       "      <td>123.76644</td>\n",
       "      <td>big</td>\n",
       "      <td>U shape</td>\n",
       "      <td>...</td>\n",
       "      <td>yes</td>\n",
       "      <td>climbing</td>\n",
       "      <td>walk</td>\n",
       "      <td>1</td>\n",
       "      <td>high</td>\n",
       "      <td>slim</td>\n",
       "      <td>no</td>\n",
       "      <td>old</td>\n",
       "      <td>no</td>\n",
       "      <td>refined</td>\n",
       "    </tr>\n",
       "    <tr>\n",
       "      <th>3</th>\n",
       "      <td>2</td>\n",
       "      <td>4.595606</td>\n",
       "      <td>0</td>\n",
       "      <td>oriental</td>\n",
       "      <td>Kenya</td>\n",
       "      <td>forest-gallery</td>\n",
       "      <td>403.28047</td>\n",
       "      <td>111.40831</td>\n",
       "      <td>big</td>\n",
       "      <td>U shape</td>\n",
       "      <td>...</td>\n",
       "      <td>yes</td>\n",
       "      <td>climbing</td>\n",
       "      <td>climbing</td>\n",
       "      <td>1</td>\n",
       "      <td>high</td>\n",
       "      <td>wide</td>\n",
       "      <td>no</td>\n",
       "      <td>mixed</td>\n",
       "      <td>no</td>\n",
       "      <td>light</td>\n",
       "    </tr>\n",
       "    <tr>\n",
       "      <th>4</th>\n",
       "      <td>1</td>\n",
       "      <td>3.614060</td>\n",
       "      <td>0</td>\n",
       "      <td>south</td>\n",
       "      <td>South Africa</td>\n",
       "      <td>forest-gallery</td>\n",
       "      <td>679.15233</td>\n",
       "      <td>111.59004</td>\n",
       "      <td>small</td>\n",
       "      <td>conical</td>\n",
       "      <td>...</td>\n",
       "      <td>yes</td>\n",
       "      <td>climbing</td>\n",
       "      <td>climbing</td>\n",
       "      <td>1</td>\n",
       "      <td>high</td>\n",
       "      <td>wide</td>\n",
       "      <td>yes</td>\n",
       "      <td>old</td>\n",
       "      <td>no</td>\n",
       "      <td>light</td>\n",
       "    </tr>\n",
       "    <tr>\n",
       "      <th>...</th>\n",
       "      <td>...</td>\n",
       "      <td>...</td>\n",
       "      <td>...</td>\n",
       "      <td>...</td>\n",
       "      <td>...</td>\n",
       "      <td>...</td>\n",
       "      <td>...</td>\n",
       "      <td>...</td>\n",
       "      <td>...</td>\n",
       "      <td>...</td>\n",
       "      <td>...</td>\n",
       "      <td>...</td>\n",
       "      <td>...</td>\n",
       "      <td>...</td>\n",
       "      <td>...</td>\n",
       "      <td>...</td>\n",
       "      <td>...</td>\n",
       "      <td>...</td>\n",
       "      <td>...</td>\n",
       "      <td>...</td>\n",
       "      <td>...</td>\n",
       "    </tr>\n",
       "    <tr>\n",
       "      <th>11995</th>\n",
       "      <td>1</td>\n",
       "      <td>3.354085</td>\n",
       "      <td>0</td>\n",
       "      <td>south</td>\n",
       "      <td>South Africa</td>\n",
       "      <td>forest-gallery</td>\n",
       "      <td>676.92547</td>\n",
       "      <td>112.88961</td>\n",
       "      <td>small</td>\n",
       "      <td>conical</td>\n",
       "      <td>...</td>\n",
       "      <td>yes</td>\n",
       "      <td>climbing</td>\n",
       "      <td>climbing</td>\n",
       "      <td>1</td>\n",
       "      <td>high</td>\n",
       "      <td>wide</td>\n",
       "      <td>yes</td>\n",
       "      <td>old</td>\n",
       "      <td>no</td>\n",
       "      <td>light</td>\n",
       "    </tr>\n",
       "    <tr>\n",
       "      <th>11996</th>\n",
       "      <td>1</td>\n",
       "      <td>3.969730</td>\n",
       "      <td>0</td>\n",
       "      <td>south</td>\n",
       "      <td>South Africa</td>\n",
       "      <td>forest-gallery</td>\n",
       "      <td>560.41705</td>\n",
       "      <td>105.13137</td>\n",
       "      <td>small</td>\n",
       "      <td>conical</td>\n",
       "      <td>...</td>\n",
       "      <td>yes</td>\n",
       "      <td>climbing</td>\n",
       "      <td>climbing</td>\n",
       "      <td>1</td>\n",
       "      <td>high</td>\n",
       "      <td>wide</td>\n",
       "      <td>yes</td>\n",
       "      <td>old</td>\n",
       "      <td>no</td>\n",
       "      <td>light</td>\n",
       "    </tr>\n",
       "    <tr>\n",
       "      <th>11997</th>\n",
       "      <td>9</td>\n",
       "      <td>0.213857</td>\n",
       "      <td>1</td>\n",
       "      <td>oriental</td>\n",
       "      <td>Indonesia</td>\n",
       "      <td>peninsular</td>\n",
       "      <td>222.91130</td>\n",
       "      <td>95.29501</td>\n",
       "      <td>small</td>\n",
       "      <td>U shape</td>\n",
       "      <td>...</td>\n",
       "      <td>modern</td>\n",
       "      <td>climbing</td>\n",
       "      <td>walk</td>\n",
       "      <td>3</td>\n",
       "      <td>medium-high</td>\n",
       "      <td>wide</td>\n",
       "      <td>no</td>\n",
       "      <td>mixed</td>\n",
       "      <td>no</td>\n",
       "      <td>light</td>\n",
       "    </tr>\n",
       "    <tr>\n",
       "      <th>11998</th>\n",
       "      <td>18</td>\n",
       "      <td>2.859186</td>\n",
       "      <td>0</td>\n",
       "      <td>oriental</td>\n",
       "      <td>Kenya</td>\n",
       "      <td>forest-savanna</td>\n",
       "      <td>466.86762</td>\n",
       "      <td>101.01866</td>\n",
       "      <td>megadony</td>\n",
       "      <td>V shape</td>\n",
       "      <td>...</td>\n",
       "      <td>yes</td>\n",
       "      <td>climbing</td>\n",
       "      <td>climbing</td>\n",
       "      <td>2</td>\n",
       "      <td>high</td>\n",
       "      <td>wide</td>\n",
       "      <td>no</td>\n",
       "      <td>old</td>\n",
       "      <td>no</td>\n",
       "      <td>robust</td>\n",
       "    </tr>\n",
       "    <tr>\n",
       "      <th>11999</th>\n",
       "      <td>20</td>\n",
       "      <td>2.237098</td>\n",
       "      <td>0</td>\n",
       "      <td>south</td>\n",
       "      <td>South Africa</td>\n",
       "      <td>jungle</td>\n",
       "      <td>626.73209</td>\n",
       "      <td>114.62156</td>\n",
       "      <td>megadony</td>\n",
       "      <td>V shape</td>\n",
       "      <td>...</td>\n",
       "      <td>yes</td>\n",
       "      <td>climbing</td>\n",
       "      <td>climbing</td>\n",
       "      <td>2</td>\n",
       "      <td>high</td>\n",
       "      <td>wide</td>\n",
       "      <td>no</td>\n",
       "      <td>old</td>\n",
       "      <td>no</td>\n",
       "      <td>robust</td>\n",
       "    </tr>\n",
       "  </tbody>\n",
       "</table>\n",
       "<p>12000 rows × 28 columns</p>\n",
       "</div>"
      ],
      "text/plain": [
       "       Genus_&_Specie      Time  Location      Zone Current_Country  \\\n",
       "0                  22  6.041124         0  oriental           Kenya   \n",
       "1                  21  4.383910         0  oriental        Ethiopia   \n",
       "2                   0  3.749413         0  oriental           Kenya   \n",
       "3                   2  4.595606         0  oriental           Kenya   \n",
       "4                   1  3.614060         0     south    South Africa   \n",
       "...               ...       ...       ...       ...             ...   \n",
       "11995               1  3.354085         0     south    South Africa   \n",
       "11996               1  3.969730         0     south    South Africa   \n",
       "11997               9  0.213857         1  oriental       Indonesia   \n",
       "11998              18  2.859186         0  oriental           Kenya   \n",
       "11999              20  2.237098         0     south    South Africa   \n",
       "\n",
       "              Habitat  Cranial_Capacity     Height Incisor_Size Jaw_Shape  \\\n",
       "0              forest         144.51410  110.24323        small   conical   \n",
       "1               mixed         293.96021  107.69018        small   conical   \n",
       "2               mixed         264.79849  123.76644          big   U shape   \n",
       "3      forest-gallery         403.28047  111.40831          big   U shape   \n",
       "4      forest-gallery         679.15233  111.59004        small   conical   \n",
       "...               ...               ...        ...          ...       ...   \n",
       "11995  forest-gallery         676.92547  112.88961        small   conical   \n",
       "11996  forest-gallery         560.41705  105.13137        small   conical   \n",
       "11997      peninsular         222.91130   95.29501        small   U shape   \n",
       "11998  forest-savanna         466.86762  101.01866     megadony   V shape   \n",
       "11999          jungle         626.73209  114.62156     megadony   V shape   \n",
       "\n",
       "       ...             biped      Arms     Foots Diet Sexual_Dimorphism   Hip  \\\n",
       "0      ...   low probability  climbing  climbing    1              high  wide   \n",
       "1      ...  high probability  climbing  climbing    4       medium-high  wide   \n",
       "2      ...               yes  climbing      walk    1              high  slim   \n",
       "3      ...               yes  climbing  climbing    1              high  wide   \n",
       "4      ...               yes  climbing  climbing    1              high  wide   \n",
       "...    ...               ...       ...       ...  ...               ...   ...   \n",
       "11995  ...               yes  climbing  climbing    1              high  wide   \n",
       "11996  ...               yes  climbing  climbing    1              high  wide   \n",
       "11997  ...            modern  climbing      walk    3       medium-high  wide   \n",
       "11998  ...               yes  climbing  climbing    2              high  wide   \n",
       "11999  ...               yes  climbing  climbing    2              high  wide   \n",
       "\n",
       "      Vertical_Front Anatomy Migrated Skeleton  \n",
       "0                 no     old       no    light  \n",
       "1                 no     old       no    light  \n",
       "2                 no     old       no  refined  \n",
       "3                 no   mixed       no    light  \n",
       "4                yes     old       no    light  \n",
       "...              ...     ...      ...      ...  \n",
       "11995            yes     old       no    light  \n",
       "11996            yes     old       no    light  \n",
       "11997             no   mixed       no    light  \n",
       "11998             no     old       no   robust  \n",
       "11999             no     old       no   robust  \n",
       "\n",
       "[12000 rows x 28 columns]"
      ]
     },
     "execution_count": 4,
     "metadata": {},
     "output_type": "execute_result"
    }
   ],
   "source": [
    "LabelEncoder\n",
    "le = LabelEncoder()\n",
    "\n",
    "#  LabelEncoder \n",
    "df['Genus_&_Specie'] = le.fit_transform(df['Genus_&_Specie'])\n",
    "df['Location'] = le.fit_transform(df['Location'])\n",
    "df['Diet'] = le.fit_transform(df['Diet'])\n",
    "df"
   ]
  },
  {
   "cell_type": "markdown",
   "id": "7680e37c",
   "metadata": {
    "papermill": {
     "duration": 0.011568,
     "end_time": "2024-09-09T13:30:14.553273",
     "exception": false,
     "start_time": "2024-09-09T13:30:14.541705",
     "status": "completed"
    },
    "tags": []
   },
   "source": [
    "## Value counts of each column"
   ]
  },
  {
   "cell_type": "code",
   "execution_count": 5,
   "id": "c54c47c8",
   "metadata": {
    "execution": {
     "iopub.execute_input": "2024-09-09T13:30:14.582853Z",
     "iopub.status.busy": "2024-09-09T13:30:14.582424Z",
     "iopub.status.idle": "2024-09-09T13:30:14.605909Z",
     "shell.execute_reply": "2024-09-09T13:30:14.604463Z"
    },
    "papermill": {
     "duration": 0.042202,
     "end_time": "2024-09-09T13:30:14.609120",
     "exception": false,
     "start_time": "2024-09-09T13:30:14.566918",
     "status": "completed"
    },
    "tags": []
   },
   "outputs": [
    {
     "data": {
      "text/plain": [
       "Genus_&_Specie\n",
       "22    500\n",
       "21    500\n",
       "20    500\n",
       "4     500\n",
       "3     500\n",
       "10    500\n",
       "5     500\n",
       "8     500\n",
       "6     500\n",
       "17    500\n",
       "11    500\n",
       "16    500\n",
       "19    500\n",
       "9     500\n",
       "13    500\n",
       "7     500\n",
       "18    500\n",
       "14    500\n",
       "23    500\n",
       "15    500\n",
       "1     500\n",
       "2     500\n",
       "0     500\n",
       "12    500\n",
       "Name: count, dtype: int64"
      ]
     },
     "execution_count": 5,
     "metadata": {},
     "output_type": "execute_result"
    }
   ],
   "source": [
    "df['Genus_&_Specie'].value_counts()"
   ]
  },
  {
   "cell_type": "code",
   "execution_count": 6,
   "id": "81e4e975",
   "metadata": {
    "execution": {
     "iopub.execute_input": "2024-09-09T13:30:14.637382Z",
     "iopub.status.busy": "2024-09-09T13:30:14.636842Z",
     "iopub.status.idle": "2024-09-09T13:30:14.648583Z",
     "shell.execute_reply": "2024-09-09T13:30:14.647002Z"
    },
    "papermill": {
     "duration": 0.029891,
     "end_time": "2024-09-09T13:30:14.651844",
     "exception": false,
     "start_time": "2024-09-09T13:30:14.621953",
     "status": "completed"
    },
    "tags": []
   },
   "outputs": [
    {
     "data": {
      "text/plain": [
       "Location\n",
       "0    9000\n",
       "2    1500\n",
       "1    1500\n",
       "Name: count, dtype: int64"
      ]
     },
     "execution_count": 6,
     "metadata": {},
     "output_type": "execute_result"
    }
   ],
   "source": [
    "df['Location'].value_counts()"
   ]
  },
  {
   "cell_type": "code",
   "execution_count": 7,
   "id": "19089a90",
   "metadata": {
    "execution": {
     "iopub.execute_input": "2024-09-09T13:30:14.678513Z",
     "iopub.status.busy": "2024-09-09T13:30:14.678054Z",
     "iopub.status.idle": "2024-09-09T13:30:14.688193Z",
     "shell.execute_reply": "2024-09-09T13:30:14.687051Z"
    },
    "papermill": {
     "duration": 0.026748,
     "end_time": "2024-09-09T13:30:14.690988",
     "exception": false,
     "start_time": "2024-09-09T13:30:14.664240",
     "status": "completed"
    },
    "tags": []
   },
   "outputs": [
    {
     "data": {
      "text/plain": [
       "Diet\n",
       "3    4500\n",
       "1    3000\n",
       "2    2000\n",
       "0    1500\n",
       "4    1000\n",
       "Name: count, dtype: int64"
      ]
     },
     "execution_count": 7,
     "metadata": {},
     "output_type": "execute_result"
    }
   ],
   "source": [
    "df['Diet'].value_counts()"
   ]
  },
  {
   "cell_type": "markdown",
   "id": "8aeaae3d",
   "metadata": {
    "papermill": {
     "duration": 0.012633,
     "end_time": "2024-09-09T13:30:14.716852",
     "exception": false,
     "start_time": "2024-09-09T13:30:14.704219",
     "status": "completed"
    },
    "tags": []
   },
   "source": [
    "## Select values  X and Y"
   ]
  },
  {
   "cell_type": "code",
   "execution_count": 8,
   "id": "192aefcb",
   "metadata": {
    "execution": {
     "iopub.execute_input": "2024-09-09T13:30:14.744868Z",
     "iopub.status.busy": "2024-09-09T13:30:14.744428Z",
     "iopub.status.idle": "2024-09-09T13:30:14.751683Z",
     "shell.execute_reply": "2024-09-09T13:30:14.750435Z"
    },
    "papermill": {
     "duration": 0.024545,
     "end_time": "2024-09-09T13:30:14.754688",
     "exception": false,
     "start_time": "2024-09-09T13:30:14.730143",
     "status": "completed"
    },
    "tags": []
   },
   "outputs": [],
   "source": [
    "X = df[['Location','Diet']]\n",
    "y = df['Genus_&_Specie']"
   ]
  },
  {
   "cell_type": "markdown",
   "id": "564994c6",
   "metadata": {
    "papermill": {
     "duration": 0.011552,
     "end_time": "2024-09-09T13:30:14.779034",
     "exception": false,
     "start_time": "2024-09-09T13:30:14.767482",
     "status": "completed"
    },
    "tags": []
   },
   "source": [
    "## split values and testing  training"
   ]
  },
  {
   "cell_type": "code",
   "execution_count": 9,
   "id": "e4c9dc1f",
   "metadata": {
    "execution": {
     "iopub.execute_input": "2024-09-09T13:30:14.805076Z",
     "iopub.status.busy": "2024-09-09T13:30:14.804625Z",
     "iopub.status.idle": "2024-09-09T13:30:14.815719Z",
     "shell.execute_reply": "2024-09-09T13:30:14.814193Z"
    },
    "papermill": {
     "duration": 0.028493,
     "end_time": "2024-09-09T13:30:14.819730",
     "exception": false,
     "start_time": "2024-09-09T13:30:14.791237",
     "status": "completed"
    },
    "tags": []
   },
   "outputs": [],
   "source": [
    "X_train , X_test , y_train , y_test = train_test_split(X,y,test_size=.20)"
   ]
  },
  {
   "cell_type": "markdown",
   "id": "440f6224",
   "metadata": {
    "papermill": {
     "duration": 0.012724,
     "end_time": "2024-09-09T13:30:14.845400",
     "exception": false,
     "start_time": "2024-09-09T13:30:14.832676",
     "status": "completed"
    },
    "tags": []
   },
   "source": [
    "## Bilduing the model 'KNeighborsClassifier'"
   ]
  },
  {
   "cell_type": "code",
   "execution_count": 10,
   "id": "2be42d33",
   "metadata": {
    "execution": {
     "iopub.execute_input": "2024-09-09T13:30:14.871968Z",
     "iopub.status.busy": "2024-09-09T13:30:14.871520Z",
     "iopub.status.idle": "2024-09-09T13:30:14.891206Z",
     "shell.execute_reply": "2024-09-09T13:30:14.889924Z"
    },
    "papermill": {
     "duration": 0.03658,
     "end_time": "2024-09-09T13:30:14.893971",
     "exception": false,
     "start_time": "2024-09-09T13:30:14.857391",
     "status": "completed"
    },
    "tags": []
   },
   "outputs": [
    {
     "data": {
      "text/html": [
       "<style>#sk-container-id-1 {color: black;background-color: white;}#sk-container-id-1 pre{padding: 0;}#sk-container-id-1 div.sk-toggleable {background-color: white;}#sk-container-id-1 label.sk-toggleable__label {cursor: pointer;display: block;width: 100%;margin-bottom: 0;padding: 0.3em;box-sizing: border-box;text-align: center;}#sk-container-id-1 label.sk-toggleable__label-arrow:before {content: \"▸\";float: left;margin-right: 0.25em;color: #696969;}#sk-container-id-1 label.sk-toggleable__label-arrow:hover:before {color: black;}#sk-container-id-1 div.sk-estimator:hover label.sk-toggleable__label-arrow:before {color: black;}#sk-container-id-1 div.sk-toggleable__content {max-height: 0;max-width: 0;overflow: hidden;text-align: left;background-color: #f0f8ff;}#sk-container-id-1 div.sk-toggleable__content pre {margin: 0.2em;color: black;border-radius: 0.25em;background-color: #f0f8ff;}#sk-container-id-1 input.sk-toggleable__control:checked~div.sk-toggleable__content {max-height: 200px;max-width: 100%;overflow: auto;}#sk-container-id-1 input.sk-toggleable__control:checked~label.sk-toggleable__label-arrow:before {content: \"▾\";}#sk-container-id-1 div.sk-estimator input.sk-toggleable__control:checked~label.sk-toggleable__label {background-color: #d4ebff;}#sk-container-id-1 div.sk-label input.sk-toggleable__control:checked~label.sk-toggleable__label {background-color: #d4ebff;}#sk-container-id-1 input.sk-hidden--visually {border: 0;clip: rect(1px 1px 1px 1px);clip: rect(1px, 1px, 1px, 1px);height: 1px;margin: -1px;overflow: hidden;padding: 0;position: absolute;width: 1px;}#sk-container-id-1 div.sk-estimator {font-family: monospace;background-color: #f0f8ff;border: 1px dotted black;border-radius: 0.25em;box-sizing: border-box;margin-bottom: 0.5em;}#sk-container-id-1 div.sk-estimator:hover {background-color: #d4ebff;}#sk-container-id-1 div.sk-parallel-item::after {content: \"\";width: 100%;border-bottom: 1px solid gray;flex-grow: 1;}#sk-container-id-1 div.sk-label:hover label.sk-toggleable__label {background-color: #d4ebff;}#sk-container-id-1 div.sk-serial::before {content: \"\";position: absolute;border-left: 1px solid gray;box-sizing: border-box;top: 0;bottom: 0;left: 50%;z-index: 0;}#sk-container-id-1 div.sk-serial {display: flex;flex-direction: column;align-items: center;background-color: white;padding-right: 0.2em;padding-left: 0.2em;position: relative;}#sk-container-id-1 div.sk-item {position: relative;z-index: 1;}#sk-container-id-1 div.sk-parallel {display: flex;align-items: stretch;justify-content: center;background-color: white;position: relative;}#sk-container-id-1 div.sk-item::before, #sk-container-id-1 div.sk-parallel-item::before {content: \"\";position: absolute;border-left: 1px solid gray;box-sizing: border-box;top: 0;bottom: 0;left: 50%;z-index: -1;}#sk-container-id-1 div.sk-parallel-item {display: flex;flex-direction: column;z-index: 1;position: relative;background-color: white;}#sk-container-id-1 div.sk-parallel-item:first-child::after {align-self: flex-end;width: 50%;}#sk-container-id-1 div.sk-parallel-item:last-child::after {align-self: flex-start;width: 50%;}#sk-container-id-1 div.sk-parallel-item:only-child::after {width: 0;}#sk-container-id-1 div.sk-dashed-wrapped {border: 1px dashed gray;margin: 0 0.4em 0.5em 0.4em;box-sizing: border-box;padding-bottom: 0.4em;background-color: white;}#sk-container-id-1 div.sk-label label {font-family: monospace;font-weight: bold;display: inline-block;line-height: 1.2em;}#sk-container-id-1 div.sk-label-container {text-align: center;}#sk-container-id-1 div.sk-container {/* jupyter's `normalize.less` sets `[hidden] { display: none; }` but bootstrap.min.css set `[hidden] { display: none !important; }` so we also need the `!important` here to be able to override the default hidden behavior on the sphinx rendered scikit-learn.org. See: https://github.com/scikit-learn/scikit-learn/issues/21755 */display: inline-block !important;position: relative;}#sk-container-id-1 div.sk-text-repr-fallback {display: none;}</style><div id=\"sk-container-id-1\" class=\"sk-top-container\"><div class=\"sk-text-repr-fallback\"><pre>KNeighborsClassifier()</pre><b>In a Jupyter environment, please rerun this cell to show the HTML representation or trust the notebook. <br />On GitHub, the HTML representation is unable to render, please try loading this page with nbviewer.org.</b></div><div class=\"sk-container\" hidden><div class=\"sk-item\"><div class=\"sk-estimator sk-toggleable\"><input class=\"sk-toggleable__control sk-hidden--visually\" id=\"sk-estimator-id-1\" type=\"checkbox\" checked><label for=\"sk-estimator-id-1\" class=\"sk-toggleable__label sk-toggleable__label-arrow\">KNeighborsClassifier</label><div class=\"sk-toggleable__content\"><pre>KNeighborsClassifier()</pre></div></div></div></div></div>"
      ],
      "text/plain": [
       "KNeighborsClassifier()"
      ]
     },
     "execution_count": 10,
     "metadata": {},
     "output_type": "execute_result"
    }
   ],
   "source": [
    "model = KNeighborsClassifier(n_neighbors=5)\n",
    "model.fit(X_train , y_train)"
   ]
  },
  {
   "cell_type": "markdown",
   "id": "4d96e10a",
   "metadata": {
    "papermill": {
     "duration": 0.011418,
     "end_time": "2024-09-09T13:30:14.918165",
     "exception": false,
     "start_time": "2024-09-09T13:30:14.906747",
     "status": "completed"
    },
    "tags": []
   },
   "source": [
    "## Predict the mode"
   ]
  },
  {
   "cell_type": "code",
   "execution_count": 11,
   "id": "05396fdf",
   "metadata": {
    "execution": {
     "iopub.execute_input": "2024-09-09T13:30:14.943978Z",
     "iopub.status.busy": "2024-09-09T13:30:14.943467Z",
     "iopub.status.idle": "2024-09-09T13:30:15.148164Z",
     "shell.execute_reply": "2024-09-09T13:30:15.146497Z"
    },
    "papermill": {
     "duration": 0.221755,
     "end_time": "2024-09-09T13:30:15.151568",
     "exception": false,
     "start_time": "2024-09-09T13:30:14.929813",
     "status": "completed"
    },
    "tags": []
   },
   "outputs": [
    {
     "data": {
      "text/plain": [
       "array([ 2, 15,  5, ..., 15,  9,  2])"
      ]
     },
     "execution_count": 11,
     "metadata": {},
     "output_type": "execute_result"
    }
   ],
   "source": [
    "y_pred = model.predict(X_test)\n",
    "y_pred"
   ]
  },
  {
   "cell_type": "markdown",
   "id": "179390ac",
   "metadata": {
    "papermill": {
     "duration": 0.011968,
     "end_time": "2024-09-09T13:30:15.175895",
     "exception": false,
     "start_time": "2024-09-09T13:30:15.163927",
     "status": "completed"
    },
    "tags": []
   },
   "source": [
    "## check accuracy model"
   ]
  },
  {
   "cell_type": "code",
   "execution_count": 12,
   "id": "32cd8ea2",
   "metadata": {
    "execution": {
     "iopub.execute_input": "2024-09-09T13:30:15.204969Z",
     "iopub.status.busy": "2024-09-09T13:30:15.203632Z",
     "iopub.status.idle": "2024-09-09T13:30:15.215174Z",
     "shell.execute_reply": "2024-09-09T13:30:15.213769Z"
    },
    "papermill": {
     "duration": 0.029948,
     "end_time": "2024-09-09T13:30:15.218321",
     "exception": false,
     "start_time": "2024-09-09T13:30:15.188373",
     "status": "completed"
    },
    "tags": []
   },
   "outputs": [
    {
     "data": {
      "text/plain": [
       "0.3375"
      ]
     },
     "execution_count": 12,
     "metadata": {},
     "output_type": "execute_result"
    }
   ],
   "source": [
    "from sklearn.metrics import accuracy_score\n",
    "accuracy_score(y_test , y_pred)"
   ]
  },
  {
   "cell_type": "markdown",
   "id": "76796fb2",
   "metadata": {
    "papermill": {
     "duration": 0.012139,
     "end_time": "2024-09-09T13:30:15.242887",
     "exception": false,
     "start_time": "2024-09-09T13:30:15.230748",
     "status": "completed"
    },
    "tags": []
   },
   "source": [
    "## Find the best value of K(the number of neighbors)"
   ]
  },
  {
   "cell_type": "code",
   "execution_count": 13,
   "id": "ecfce14f",
   "metadata": {
    "execution": {
     "iopub.execute_input": "2024-09-09T13:30:15.270151Z",
     "iopub.status.busy": "2024-09-09T13:30:15.269672Z",
     "iopub.status.idle": "2024-09-09T13:30:16.074847Z",
     "shell.execute_reply": "2024-09-09T13:30:16.073348Z"
    },
    "papermill": {
     "duration": 0.822276,
     "end_time": "2024-09-09T13:30:16.077827",
     "exception": false,
     "start_time": "2024-09-09T13:30:15.255551",
     "status": "completed"
    },
    "tags": []
   },
   "outputs": [
    {
     "name": "stdout",
     "output_type": "stream",
     "text": [
      "The best k value is: 9\n"
     ]
    }
   ],
   "source": [
    "# Define the range of k values to test\n",
    "k_values = range(3,10,2)\n",
    "test_accuracies = []\n",
    "\n",
    "# Train the k-NN classifier with different values of k and evaluate on the test set\n",
    "for k in k_values:\n",
    "    knn = KNeighborsClassifier(n_neighbors=k)\n",
    "    knn.fit(X_train, y_train)  # Train the model\n",
    "    y_pred = knn.predict(X_test)  # Predict on the test set\n",
    "    accuracy = accuracy_score(y_test, y_pred)  # Calculate accuracy\n",
    "    test_accuracies.append(accuracy)\n",
    "\n",
    "# Determine the best k\n",
    "best_k = k_values[np.argmax(test_accuracies)]\n",
    "print(f\"The best k value is: {best_k}\")"
   ]
  },
  {
   "cell_type": "markdown",
   "id": "8e53c3c7",
   "metadata": {
    "papermill": {
     "duration": 0.011856,
     "end_time": "2024-09-09T13:30:16.102468",
     "exception": false,
     "start_time": "2024-09-09T13:30:16.090612",
     "status": "completed"
    },
    "tags": []
   },
   "source": [
    "## Viualize K"
   ]
  },
  {
   "cell_type": "code",
   "execution_count": 14,
   "id": "d276c629",
   "metadata": {
    "execution": {
     "iopub.execute_input": "2024-09-09T13:30:16.129199Z",
     "iopub.status.busy": "2024-09-09T13:30:16.128705Z",
     "iopub.status.idle": "2024-09-09T13:30:16.497717Z",
     "shell.execute_reply": "2024-09-09T13:30:16.496464Z"
    },
    "papermill": {
     "duration": 0.386531,
     "end_time": "2024-09-09T13:30:16.501151",
     "exception": false,
     "start_time": "2024-09-09T13:30:16.114620",
     "status": "completed"
    },
    "tags": []
   },
   "outputs": [
    {
     "data": {
      "image/png": "[encoded data removed]",
      "text/plain": [
       "<Figure size 1000x600 with 1 Axes>"
      ]
     },
     "metadata": {},
     "output_type": "display_data"
    }
   ],
   "source": [
    "# Plot the k values vs. accuracy on the test set\n",
    "plt.figure(figsize=(10, 6))\n",
    "plt.plot(k_values, test_accuracies, marker='o')\n",
    "plt.xlabel('k')\n",
    "plt.ylabel('Test Set Accuracy')\n",
    "plt.title('k-NN Varying k Value')\n",
    "plt.show()"
   ]
  },
  {
   "cell_type": "markdown",
   "id": "9074e7b0",
   "metadata": {
    "papermill": {
     "duration": 0.013745,
     "end_time": "2024-09-09T13:30:16.529268",
     "exception": false,
     "start_time": "2024-09-09T13:30:16.515523",
     "status": "completed"
    },
    "tags": []
   },
   "source": [
    "## Bilduing the model 'DecisionTreeClassifier"
   ]
  },
  {
   "cell_type": "code",
   "execution_count": 15,
   "id": "bc35641c",
   "metadata": {
    "execution": {
     "iopub.execute_input": "2024-09-09T13:30:16.561372Z",
     "iopub.status.busy": "2024-09-09T13:30:16.560842Z",
     "iopub.status.idle": "2024-09-09T13:30:16.582411Z",
     "shell.execute_reply": "2024-09-09T13:30:16.580446Z"
    },
    "papermill": {
     "duration": 0.04342,
     "end_time": "2024-09-09T13:30:16.585982",
     "exception": false,
     "start_time": "2024-09-09T13:30:16.542562",
     "status": "completed"
    },
    "tags": []
   },
   "outputs": [
    {
     "data": {
      "text/html": [
       "<style>#sk-container-id-2 {color: black;background-color: white;}#sk-container-id-2 pre{padding: 0;}#sk-container-id-2 div.sk-toggleable {background-color: white;}#sk-container-id-2 label.sk-toggleable__label {cursor: pointer;display: block;width: 100%;margin-bottom: 0;padding: 0.3em;box-sizing: border-box;text-align: center;}#sk-container-id-2 label.sk-toggleable__label-arrow:before {content: \"▸\";float: left;margin-right: 0.25em;color: #696969;}#sk-container-id-2 label.sk-toggleable__label-arrow:hover:before {color: black;}#sk-container-id-2 div.sk-estimator:hover label.sk-toggleable__label-arrow:before {color: black;}#sk-container-id-2 div.sk-toggleable__content {max-height: 0;max-width: 0;overflow: hidden;text-align: left;background-color: #f0f8ff;}#sk-container-id-2 div.sk-toggleable__content pre {margin: 0.2em;color: black;border-radius: 0.25em;background-color: #f0f8ff;}#sk-container-id-2 input.sk-toggleable__control:checked~div.sk-toggleable__content {max-height: 200px;max-width: 100%;overflow: auto;}#sk-container-id-2 input.sk-toggleable__control:checked~label.sk-toggleable__label-arrow:before {content: \"▾\";}#sk-container-id-2 div.sk-estimator input.sk-toggleable__control:checked~label.sk-toggleable__label {background-color: #d4ebff;}#sk-container-id-2 div.sk-label input.sk-toggleable__control:checked~label.sk-toggleable__label {background-color: #d4ebff;}#sk-container-id-2 input.sk-hidden--visually {border: 0;clip: rect(1px 1px 1px 1px);clip: rect(1px, 1px, 1px, 1px);height: 1px;margin: -1px;overflow: hidden;padding: 0;position: absolute;width: 1px;}#sk-container-id-2 div.sk-estimator {font-family: monospace;background-color: #f0f8ff;border: 1px dotted black;border-radius: 0.25em;box-sizing: border-box;margin-bottom: 0.5em;}#sk-container-id-2 div.sk-estimator:hover {background-color: #d4ebff;}#sk-container-id-2 div.sk-parallel-item::after {content: \"\";width: 100%;border-bottom: 1px solid gray;flex-grow: 1;}#sk-container-id-2 div.sk-label:hover label.sk-toggleable__label {background-color: #d4ebff;}#sk-container-id-2 div.sk-serial::before {content: \"\";position: absolute;border-left: 1px solid gray;box-sizing: border-box;top: 0;bottom: 0;left: 50%;z-index: 0;}#sk-container-id-2 div.sk-serial {display: flex;flex-direction: column;align-items: center;background-color: white;padding-right: 0.2em;padding-left: 0.2em;position: relative;}#sk-container-id-2 div.sk-item {position: relative;z-index: 1;}#sk-container-id-2 div.sk-parallel {display: flex;align-items: stretch;justify-content: center;background-color: white;position: relative;}#sk-container-id-2 div.sk-item::before, #sk-container-id-2 div.sk-parallel-item::before {content: \"\";position: absolute;border-left: 1px solid gray;box-sizing: border-box;top: 0;bottom: 0;left: 50%;z-index: -1;}#sk-container-id-2 div.sk-parallel-item {display: flex;flex-direction: column;z-index: 1;position: relative;background-color: white;}#sk-container-id-2 div.sk-parallel-item:first-child::after {align-self: flex-end;width: 50%;}#sk-container-id-2 div.sk-parallel-item:last-child::after {align-self: flex-start;width: 50%;}#sk-container-id-2 div.sk-parallel-item:only-child::after {width: 0;}#sk-container-id-2 div.sk-dashed-wrapped {border: 1px dashed gray;margin: 0 0.4em 0.5em 0.4em;box-sizing: border-box;padding-bottom: 0.4em;background-color: white;}#sk-container-id-2 div.sk-label label {font-family: monospace;font-weight: bold;display: inline-block;line-height: 1.2em;}#sk-container-id-2 div.sk-label-container {text-align: center;}#sk-container-id-2 div.sk-container {/* jupyter's `normalize.less` sets `[hidden] { display: none; }` but bootstrap.min.css set `[hidden] { display: none !important; }` so we also need the `!important` here to be able to override the default hidden behavior on the sphinx rendered scikit-learn.org. See: https://github.com/scikit-learn/scikit-learn/issues/21755 */display: inline-block !important;position: relative;}#sk-container-id-2 div.sk-text-repr-fallback {display: none;}</style><div id=\"sk-container-id-2\" class=\"sk-top-container\"><div class=\"sk-text-repr-fallback\"><pre>DecisionTreeClassifier()</pre><b>In a Jupyter environment, please rerun this cell to show the HTML representation or trust the notebook. <br />On GitHub, the HTML representation is unable to render, please try loading this page with nbviewer.org.</b></div><div class=\"sk-container\" hidden><div class=\"sk-item\"><div class=\"sk-estimator sk-toggleable\"><input class=\"sk-toggleable__control sk-hidden--visually\" id=\"sk-estimator-id-2\" type=\"checkbox\" checked><label for=\"sk-estimator-id-2\" class=\"sk-toggleable__label sk-toggleable__label-arrow\">DecisionTreeClassifier</label><div class=\"sk-toggleable__content\"><pre>DecisionTreeClassifier()</pre></div></div></div></div></div>"
      ],
      "text/plain": [
       "DecisionTreeClassifier()"
      ]
     },
     "execution_count": 15,
     "metadata": {},
     "output_type": "execute_result"
    }
   ],
   "source": [
    "# model DecisionTree\n",
    "model = DecisionTreeClassifier()\n",
    "model.fit(X_train,y_train)"
   ]
  },
  {
   "cell_type": "markdown",
   "id": "bf9659c1",
   "metadata": {
    "papermill": {
     "duration": 0.014723,
     "end_time": "2024-09-09T13:30:16.621447",
     "exception": false,
     "start_time": "2024-09-09T13:30:16.606724",
     "status": "completed"
    },
    "tags": []
   },
   "source": [
    "## predict and accuracy"
   ]
  },
  {
   "cell_type": "code",
   "execution_count": 16,
   "id": "15a6e707",
   "metadata": {
    "execution": {
     "iopub.execute_input": "2024-09-09T13:30:16.650605Z",
     "iopub.status.busy": "2024-09-09T13:30:16.649559Z",
     "iopub.status.idle": "2024-09-09T13:30:16.660296Z",
     "shell.execute_reply": "2024-09-09T13:30:16.658956Z"
    },
    "papermill": {
     "duration": 0.028041,
     "end_time": "2024-09-09T13:30:16.662810",
     "exception": false,
     "start_time": "2024-09-09T13:30:16.634769",
     "status": "completed"
    },
    "tags": []
   },
   "outputs": [
    {
     "data": {
      "text/plain": [
       "array([ 1, 13,  5, ..., 13,  7,  1])"
      ]
     },
     "execution_count": 16,
     "metadata": {},
     "output_type": "execute_result"
    }
   ],
   "source": [
    "# predict and accuracy\n",
    "y_pred = model.predict(X_test)\n",
    "y_pred"
   ]
  },
  {
   "cell_type": "markdown",
   "id": "f37bfa71",
   "metadata": {
    "papermill": {
     "duration": 0.018748,
     "end_time": "2024-09-09T13:30:16.695832",
     "exception": false,
     "start_time": "2024-09-09T13:30:16.677084",
     "status": "completed"
    },
    "tags": []
   },
   "source": [
    "## Check accuracy model"
   ]
  },
  {
   "cell_type": "code",
   "execution_count": 17,
   "id": "f1ff2489",
   "metadata": {
    "execution": {
     "iopub.execute_input": "2024-09-09T13:30:16.737722Z",
     "iopub.status.busy": "2024-09-09T13:30:16.735346Z",
     "iopub.status.idle": "2024-09-09T13:30:16.747986Z",
     "shell.execute_reply": "2024-09-09T13:30:16.746554Z"
    },
    "papermill": {
     "duration": 0.039176,
     "end_time": "2024-09-09T13:30:16.751121",
     "exception": false,
     "start_time": "2024-09-09T13:30:16.711945",
     "status": "completed"
    },
    "tags": []
   },
   "outputs": [
    {
     "data": {
      "text/plain": [
       "0.32208333333333333"
      ]
     },
     "execution_count": 17,
     "metadata": {},
     "output_type": "execute_result"
    }
   ],
   "source": [
    "accuracy_score(y_test,y_pred)"
   ]
  },
  {
   "cell_type": "markdown",
   "id": "29a2bba9",
   "metadata": {
    "papermill": {
     "duration": 0.019784,
     "end_time": "2024-09-09T13:30:16.796773",
     "exception": false,
     "start_time": "2024-09-09T13:30:16.776989",
     "status": "completed"
    },
    "tags": []
   },
   "source": [
    "## visualize the model"
   ]
  },
  {
   "cell_type": "code",
   "execution_count": 18,
   "id": "7b05a482",
   "metadata": {
    "execution": {
     "iopub.execute_input": "2024-09-09T13:30:16.835186Z",
     "iopub.status.busy": "2024-09-09T13:30:16.834743Z",
     "iopub.status.idle": "2024-09-09T13:30:17.153925Z",
     "shell.execute_reply": "2024-09-09T13:30:17.152740Z"
    },
    "papermill": {
     "duration": 0.339938,
     "end_time": "2024-09-09T13:30:17.156688",
     "exception": false,
     "start_time": "2024-09-09T13:30:16.816750",
     "status": "completed"
    },
    "tags": []
   },
   "outputs": [
    {
     "data": {
      "image/png": "[encoded data removed]",
      "text/plain": [
       "<Figure size 800x600 with 1 Axes>"
      ]
     },
     "metadata": {},
     "output_type": "display_data"
    }
   ],
   "source": [
    "plt.figure(figsize=(8,6))\n",
    "plt.scatter(y_test, y_pred, color='blue')\n",
    "plt.plot([min(y_test), max(y_test)], [min(y_test), max(y_test)], color='red', linestyle='--')\n",
    "plt.xlabel('True Values')\n",
    "plt.ylabel('Predictions')\n",
    "plt.title('Predictions vs True Values')\n",
    "plt.show()"
   ]
  }
 ],
 "metadata": {
  "kaggle": {
   "accelerator": "none",
   "dataSources": [
    {
     "datasetId": 4581451,
     "sourceId": 7819697,
     "sourceType": "datasetVersion"
    }
   ],
   "dockerImageVersionId": 30761,
   "isGpuEnabled": false,
   "isInternetEnabled": true,
   "language": "python",
   "sourceType": "notebook"
  },
  "kernelspec": {
   "display_name": "Python 3",
   "language": "python",
   "name": "python3"
  },
  "language_info": {
   "codemirror_mode": {
    "name": "ipython",
    "version": 3
   },
   "file_extension": ".py",
   "mimetype": "text/x-python",
   "name": "python",
   "nbconvert_exporter": "python",
   "pygments_lexer": "ipython3",
   "version": "3.10.14"
  },
  "papermill": {
   "default_parameters": {},
   "duration": 10.045191,
   "end_time": "2024-09-09T13:30:18.094809",
   "environment_variables": {},
   "exception": null,
   "input_path": "__notebook__.ipynb",
   "output_path": "__notebook__.ipynb",
   "parameters": {},
   "start_time": "2024-09-09T13:30:08.049618",
   "version": "2.6.0"
  }
 },
 "nbformat": 4,
 "nbformat_minor": 5
}
